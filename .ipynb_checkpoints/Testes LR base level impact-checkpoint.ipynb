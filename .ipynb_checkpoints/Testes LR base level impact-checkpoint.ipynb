{
 "cells": [
  {
   "cell_type": "code",
   "execution_count": 1,
   "metadata": {},
   "outputs": [
    {
     "data": {
      "text/html": [
       "<dl>\n",
       "\t<dt>$platform</dt>\n",
       "\t\t<dd>'x86_64-conda-linux-gnu'</dd>\n",
       "\t<dt>$arch</dt>\n",
       "\t\t<dd>'x86_64'</dd>\n",
       "\t<dt>$os</dt>\n",
       "\t\t<dd>'linux-gnu'</dd>\n",
       "\t<dt>$system</dt>\n",
       "\t\t<dd>'x86_64, linux-gnu'</dd>\n",
       "\t<dt>$status</dt>\n",
       "\t\t<dd>''</dd>\n",
       "\t<dt>$major</dt>\n",
       "\t\t<dd>'4'</dd>\n",
       "\t<dt>$minor</dt>\n",
       "\t\t<dd>'0.3'</dd>\n",
       "\t<dt>$year</dt>\n",
       "\t\t<dd>'2020'</dd>\n",
       "\t<dt>$month</dt>\n",
       "\t\t<dd>'10'</dd>\n",
       "\t<dt>$day</dt>\n",
       "\t\t<dd>'10'</dd>\n",
       "\t<dt>$`svn rev`</dt>\n",
       "\t\t<dd>'79318'</dd>\n",
       "\t<dt>$language</dt>\n",
       "\t\t<dd>'R'</dd>\n",
       "\t<dt>$version.string</dt>\n",
       "\t\t<dd>'R version 4.0.3 (2020-10-10)'</dd>\n",
       "\t<dt>$nickname</dt>\n",
       "\t\t<dd>'Bunny-Wunnies Freak Out'</dd>\n",
       "</dl>\n"
      ],
      "text/latex": [
       "\\begin{description}\n",
       "\\item[\\$platform] 'x86\\_64-conda-linux-gnu'\n",
       "\\item[\\$arch] 'x86\\_64'\n",
       "\\item[\\$os] 'linux-gnu'\n",
       "\\item[\\$system] 'x86\\_64, linux-gnu'\n",
       "\\item[\\$status] ''\n",
       "\\item[\\$major] '4'\n",
       "\\item[\\$minor] '0.3'\n",
       "\\item[\\$year] '2020'\n",
       "\\item[\\$month] '10'\n",
       "\\item[\\$day] '10'\n",
       "\\item[\\$`svn rev`] '79318'\n",
       "\\item[\\$language] 'R'\n",
       "\\item[\\$version.string] 'R version 4.0.3 (2020-10-10)'\n",
       "\\item[\\$nickname] 'Bunny-Wunnies Freak Out'\n",
       "\\end{description}\n"
      ],
      "text/markdown": [
       "$platform\n",
       ":   'x86_64-conda-linux-gnu'\n",
       "$arch\n",
       ":   'x86_64'\n",
       "$os\n",
       ":   'linux-gnu'\n",
       "$system\n",
       ":   'x86_64, linux-gnu'\n",
       "$status\n",
       ":   ''\n",
       "$major\n",
       ":   '4'\n",
       "$minor\n",
       ":   '0.3'\n",
       "$year\n",
       ":   '2020'\n",
       "$month\n",
       ":   '10'\n",
       "$day\n",
       ":   '10'\n",
       "$`svn rev`\n",
       ":   '79318'\n",
       "$language\n",
       ":   'R'\n",
       "$version.string\n",
       ":   'R version 4.0.3 (2020-10-10)'\n",
       "$nickname\n",
       ":   'Bunny-Wunnies Freak Out'\n",
       "\n",
       "\n"
      ],
      "text/plain": [
       "$platform\n",
       "[1] \"x86_64-conda-linux-gnu\"\n",
       "\n",
       "$arch\n",
       "[1] \"x86_64\"\n",
       "\n",
       "$os\n",
       "[1] \"linux-gnu\"\n",
       "\n",
       "$system\n",
       "[1] \"x86_64, linux-gnu\"\n",
       "\n",
       "$status\n",
       "[1] \"\"\n",
       "\n",
       "$major\n",
       "[1] \"4\"\n",
       "\n",
       "$minor\n",
       "[1] \"0.3\"\n",
       "\n",
       "$year\n",
       "[1] \"2020\"\n",
       "\n",
       "$month\n",
       "[1] \"10\"\n",
       "\n",
       "$day\n",
       "[1] \"10\"\n",
       "\n",
       "$`svn rev`\n",
       "[1] \"79318\"\n",
       "\n",
       "$language\n",
       "[1] \"R\"\n",
       "\n",
       "$version.string\n",
       "[1] \"R version 4.0.3 (2020-10-10)\"\n",
       "\n",
       "$nickname\n",
       "[1] \"Bunny-Wunnies Freak Out\"\n"
      ]
     },
     "metadata": {},
     "output_type": "display_data"
    }
   ],
   "source": [
    "R.Version()"
   ]
  },
  {
   "cell_type": "code",
   "execution_count": 2,
   "metadata": {
    "scrolled": true
   },
   "outputs": [
    {
     "name": "stderr",
     "output_type": "stream",
     "text": [
      "Warning message in install.packages(\"lattice\"):\n",
      "“installation of package ‘lattice’ had non-zero exit status”\n",
      "Updating HTML index of packages in '.Library'\n",
      "\n",
      "Making 'packages.html' ...\n",
      " done\n",
      "\n",
      "Warning message in install.packages(\"robustbase\"):\n",
      "“installation of package ‘robustbase’ had non-zero exit status”\n",
      "Updating HTML index of packages in '.Library'\n",
      "\n",
      "Making 'packages.html' ...\n",
      " done\n",
      "\n",
      "also installing the dependency ‘checkmate’\n",
      "\n",
      "\n",
      "Warning message in install.packages(\"BBmisc\"):\n",
      "“installation of package ‘checkmate’ had non-zero exit status”\n",
      "Warning message in install.packages(\"BBmisc\"):\n",
      "“installation of package ‘BBmisc’ had non-zero exit status”\n",
      "Updating HTML index of packages in '.Library'\n",
      "\n",
      "Making 'packages.html' ...\n",
      " done\n",
      "\n",
      "Updating HTML index of packages in '.Library'\n",
      "\n",
      "Making 'packages.html' ...\n",
      " done\n",
      "\n"
     ]
    }
   ],
   "source": [
    "install.packages(\"lattice\")\n",
    "install.packages(\"robustbase\")\n",
    "install.packages(\"BBmisc\")\n",
    "install.packages(\"ggplot2\")"
   ]
  },
  {
   "cell_type": "code",
   "execution_count": 2,
   "metadata": {},
   "outputs": [
    {
     "name": "stderr",
     "output_type": "stream",
     "text": [
      "Loading required package: lattice\n",
      "Loading required package: robustbase\n"
     ]
    },
    {
     "ename": "ERROR",
     "evalue": "Error: package or namespace load failed for ‘reshape2’ in loadNamespace(j <- i[[1L]], c(lib.loc, .libPaths()), versionCheck = vI[[j]]):\n there is no package called ‘Rcpp’\n",
     "output_type": "error",
     "traceback": [
      "Error: package or namespace load failed for ‘reshape2’ in loadNamespace(j <- i[[1L]], c(lib.loc, .libPaths()), versionCheck = vI[[j]]):\n there is no package called ‘Rcpp’\nTraceback:\n",
      "1. library(reshape2)",
      "2. tryCatch({\n .     attr(package, \"LibPath\") <- which.lib.loc\n .     ns <- loadNamespace(package, lib.loc)\n .     env <- attachNamespace(ns, pos = pos, deps, exclude, include.only)\n . }, error = function(e) {\n .     P <- if (!is.null(cc <- conditionCall(e))) \n .         paste(\" in\", deparse(cc)[1L])\n .     else \"\"\n .     msg <- gettextf(\"package or namespace load failed for %s%s:\\n %s\", \n .         sQuote(package), P, conditionMessage(e))\n .     if (logical.return) \n .         message(paste(\"Error:\", msg), domain = NA)\n .     else stop(msg, call. = FALSE, domain = NA)\n . })",
      "3. tryCatchList(expr, classes, parentenv, handlers)",
      "4. tryCatchOne(expr, names, parentenv, handlers[[1L]])",
      "5. value[[3L]](cond)",
      "6. stop(msg, call. = FALSE, domain = NA)"
     ]
    }
   ],
   "source": [
    "library(cvTools)\n",
    "library(labelrank)\n",
    "library(Kendall)\n",
    "library(reshape2)\n",
    "\n",
    "source(\"labelrankingforests-master/RankTrees/RankTrees.R\")\n",
    "source(\"labelrankingforests-master/RankTrees/PredRTrees.R\")\n",
    "source(\"labelrankingforests-master/RFR.R\")\n",
    "source(\"LR_tuning.R\")\n",
    "source(\"LR_evaluation.R\")\n",
    "source(\"auxiliary.R\")"
   ]
  },
  {
   "cell_type": "code",
   "execution_count": null,
   "metadata": {},
   "outputs": [],
   "source": [
    "#impact on the baselevel experiments\n",
    "#due to the huge amount of results available, one has selected a cf2vec representation (i.e. embeddings_grid_search/sample_100_wl6/sample_graphs_dims_30_epochs_2000_lr_0.3_batch_256_negsample_10_embeddings.csv\")\n",
    "run_experiment <- function(type){\n",
    "  \n",
    "  if(type == \"IR\"){\n",
    "    B <- read.csv(\"metafeatures_landmarkers/B_IR_final.csv\", sep=\";\")  #landmarkers datasets have NAs\n",
    "    targets <- read.csv(\"targets/IR.csv\", sep=\";\")\n",
    "    goal = \"max\"\n",
    "  }\n",
    "  else{\n",
    "    B <- read.csv(\"metafeatures_landmarkers/B_RP_final.csv\", sep=\";\")\n",
    "    targets <- read.csv(\"targets/RP.csv\", sep=\";\")\n",
    "    goal = \"min\"\n",
    "  }\n",
    "  \n",
    "  A <- read.csv(\"metafeatures_statistical/mf_final.csv\", sep=\";\")\n",
    "  C <- read.csv(\"metafeatures_graph/graph_metafeatures_final.csv\", sep=\",\")\n",
    "  D <- mergeUnifiedDataset(A,B,C)  \n",
    "  rm(A,B,C)\n",
    "  \n",
    "  cf4vec <- read.csv(\"embeddings_grid_search/sample_100_wl6/sample_graphs_dims_30_epochs_2000_lr_0.3_batch_256_negsample_10_embeddings.csv\", header = F)\n",
    "  tmp <- colnames(cf4vec)\n",
    "  tmp[1] <- \"dataset\"\n",
    "  colnames(cf4vec) <- tmp\n",
    "  \n",
    "  keepcolumn <- c(\"dataset\",\"performance\")\n",
    "  perf_values <- targets[,which(colnames(targets) %in% keepcolumn)]\n",
    "  \n",
    "  metafeatures_result <- rank_evaluation_baselevel_impact(D,targets,perf_values,goal,\"MF\")\n",
    "  baseline_result <- rank_evaluation_baselevel_impact(D,targets,perf_values,goal,\"MF\",onlyBaseline = T)\n",
    "  cf4vec_result <- rank_evaluation_baselevel_impact(cf4vec,targets,perf_values,goal,\"cf4vec\")\n",
    "  \n",
    "  \n",
    "  list(metafeatures_result,baseline_result,cf4vec_result)\n",
    "}"
   ]
  },
  {
   "cell_type": "code",
   "execution_count": null,
   "metadata": {},
   "outputs": [],
   "source": [
    "IR <- run_experiment(\"IR\")\n",
    "RP <- run_experiment(\"RP\")"
   ]
  }
 ],
 "metadata": {
  "kernelspec": {
   "display_name": "R",
   "language": "R",
   "name": "ir"
  },
  "language_info": {
   "codemirror_mode": "r",
   "file_extension": ".r",
   "mimetype": "text/x-r-source",
   "name": "R",
   "pygments_lexer": "r",
   "version": "4.0.3"
  }
 },
 "nbformat": 4,
 "nbformat_minor": 4
}
